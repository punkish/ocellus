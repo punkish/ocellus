{
 "cells": [
  {
   "cell_type": "code",
   "execution_count": 1,
   "id": "096abcc5-bc0a-47df-822a-b3b99164621e",
   "metadata": {},
   "outputs": [
    {
     "name": "stdout",
     "output_type": "stream",
     "text": [
      "materialCitations.validGeo = 1\n",
      " AND materialCitationsRtree.minX BETWEEN @min_lng AND @max_lng\n",
      " AND materialCitationsRtree.minY BETWEEN @min_lat AND @max_lat\n"
     ]
    }
   ],
   "source": [
    "const params = [\n",
    "    {\n",
    "        col: 'materialCitations.validGeo',\n",
    "        val: 1,\n",
    "        operator: '='\n",
    "    },\n",
    "    {\n",
    "        col: 'materialCitationsRtree.minX',\n",
    "        val: [\n",
    "            { min_lng: 0 },\n",
    "            { max_lng: 0 }\n",
    "        ],\n",
    "        operator: 'BETWEEN'\n",
    "    },\n",
    "    {\n",
    "        col: 'materialCitationsRtree.minY',\n",
    "        val: [\n",
    "            { min_lat: 0 },\n",
    "            { max_lat: 0 }\n",
    "        ],\n",
    "        operator: 'BETWEEN'\n",
    "    }\n",
    "];\n",
    "\n",
    "const constraints = params.map(p => {\n",
    "    if (Array.isArray(p.val)) {\n",
    "        const c = p.val.map(v1 => Object.keys(v1).map(v2 => `@${v2}`)).join(' AND ');\n",
    "        return `${p.col} ${p.operator} ${c}`;\n",
    "    }\n",
    "    else {\n",
    "        return `${p.col} ${p.operator} ${p.val}`;\n",
    "    }\n",
    "})\n",
    "\n",
    "console.log(constraints.join('\\n AND '));"
   ]
  },
  {
   "cell_type": "code",
   "execution_count": null,
   "id": "557d42d4-7dda-4ae8-bac2-67f5d6fef811",
   "metadata": {},
   "outputs": [],
   "source": []
  }
 ],
 "metadata": {
  "kernelspec": {
   "display_name": "JavaScript (Node.js)",
   "language": "javascript",
   "name": "javascript"
  },
  "language_info": {
   "file_extension": ".js",
   "mimetype": "application/javascript",
   "name": "javascript",
   "version": "20.2.0"
  }
 },
 "nbformat": 4,
 "nbformat_minor": 5
}
